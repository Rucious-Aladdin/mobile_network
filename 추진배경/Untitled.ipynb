{
 "cells": [
  {
   "cell_type": "code",
   "execution_count": 100,
   "id": "3a11bef7",
   "metadata": {},
   "outputs": [],
   "source": [
    "import pandas as pd\n",
    "import seaborn as sns\n",
    "import os\n",
    "import matplotlib.pyplot as plt\n",
    "import matplotlib.font_manager\n",
    "font_list = matplotlib.font_manager.findSystemFonts(fontpaths=None, fontext='ttf')\n",
    "[matplotlib.font_manager.FontProperties(fname=font).get_name() for font in font_list if 'Nanum' in font]\n",
    "\\\n",
    "import matplotlib.pyplot as plt\n",
    "plt.rc('font', family='NanumGothicCoding')\n",
    "\\\n",
    "import matplotlib as mpl\n",
    "mpl.rcParams['axes.unicode_minus'] = False"
   ]
  },
  {
   "cell_type": "code",
   "execution_count": 101,
   "id": "5afdd264",
   "metadata": {},
   "outputs": [],
   "source": [
    "save_path = \"~/빅데이터프로젝트/추진배경/\"\n",
    "file_name = \"알뜰폰.csv\""
   ]
  },
  {
   "cell_type": "code",
   "execution_count": 102,
   "id": "f7aea72d",
   "metadata": {},
   "outputs": [],
   "source": [
    "df = pd.read_csv(os.path.join(save_path, file_name), encoding=\"euc-kr\")"
   ]
  },
  {
   "cell_type": "code",
   "execution_count": 103,
   "id": "9e8a0168",
   "metadata": {},
   "outputs": [
    {
     "data": {
      "text/html": [
       "<div>\n",
       "<style scoped>\n",
       "    .dataframe tbody tr th:only-of-type {\n",
       "        vertical-align: middle;\n",
       "    }\n",
       "\n",
       "    .dataframe tbody tr th {\n",
       "        vertical-align: top;\n",
       "    }\n",
       "\n",
       "    .dataframe thead th {\n",
       "        text-align: right;\n",
       "    }\n",
       "</style>\n",
       "<table border=\"1\" class=\"dataframe\">\n",
       "  <thead>\n",
       "    <tr style=\"text-align: right;\">\n",
       "      <th></th>\n",
       "      <th>Unnamed: 0</th>\n",
       "      <th>2018.12월</th>\n",
       "      <th>2019.12월</th>\n",
       "      <th>2020.12월</th>\n",
       "      <th>2021.12월</th>\n",
       "      <th>2022.12월</th>\n",
       "      <th>2023.7월</th>\n",
       "      <th>2023.8월</th>\n",
       "      <th>2023.9월</th>\n",
       "      <th>2023.10월</th>\n",
       "      <th>2023.11월</th>\n",
       "      <th>2023.12월</th>\n",
       "      <th>2024.1월</th>\n",
       "      <th>2024.2월</th>\n",
       "      <th>2024.3월</th>\n",
       "    </tr>\n",
       "  </thead>\n",
       "  <tbody>\n",
       "    <tr>\n",
       "      <th>0</th>\n",
       "      <td>SKT</td>\n",
       "      <td>23,784,297</td>\n",
       "      <td>24,083,359</td>\n",
       "      <td>24,110,027</td>\n",
       "      <td>23,750,143</td>\n",
       "      <td>23,277,848</td>\n",
       "      <td>23,164,492</td>\n",
       "      <td>23,123,256</td>\n",
       "      <td>23,094,699</td>\n",
       "      <td>23,058,911</td>\n",
       "      <td>23,022,980</td>\n",
       "      <td>22,977,041</td>\n",
       "      <td>22,899,298</td>\n",
       "      <td>22,886,872</td>\n",
       "      <td>22,882,367</td>\n",
       "    </tr>\n",
       "    <tr>\n",
       "      <th>1</th>\n",
       "      <td>KT</td>\n",
       "      <td>13,969,345</td>\n",
       "      <td>14,162,718</td>\n",
       "      <td>14,332,692</td>\n",
       "      <td>14,162,619</td>\n",
       "      <td>13,746,584</td>\n",
       "      <td>13,619,689</td>\n",
       "      <td>13,602,118</td>\n",
       "      <td>13,591,062</td>\n",
       "      <td>13,576,962</td>\n",
       "      <td>13,551,171</td>\n",
       "      <td>13,516,647</td>\n",
       "      <td>13,302,993</td>\n",
       "      <td>13,289,285</td>\n",
       "      <td>13,275,495</td>\n",
       "    </tr>\n",
       "    <tr>\n",
       "      <th>2</th>\n",
       "      <td>LGU+</td>\n",
       "      <td>10,762,371</td>\n",
       "      <td>11,066,096</td>\n",
       "      <td>11,379,823</td>\n",
       "      <td>11,308,639</td>\n",
       "      <td>11,198,523</td>\n",
       "      <td>11,046,604</td>\n",
       "      <td>11,024,107</td>\n",
       "      <td>11,010,874</td>\n",
       "      <td>10,994,852</td>\n",
       "      <td>10,974,697</td>\n",
       "      <td>10,943,839</td>\n",
       "      <td>10,804,532</td>\n",
       "      <td>10,807,893</td>\n",
       "      <td>10,821,457</td>\n",
       "    </tr>\n",
       "    <tr>\n",
       "      <th>3</th>\n",
       "      <td>MVNO</td>\n",
       "      <td>7,081,852</td>\n",
       "      <td>6,810,841</td>\n",
       "      <td>6,093,272</td>\n",
       "      <td>6,082,652</td>\n",
       "      <td>7,269,908</td>\n",
       "      <td>8,231,441</td>\n",
       "      <td>8,367,711</td>\n",
       "      <td>8,493,099</td>\n",
       "      <td>8,601,245</td>\n",
       "      <td>8,682,839</td>\n",
       "      <td>8,719,267</td>\n",
       "      <td>8,845,434</td>\n",
       "      <td>8,971,431</td>\n",
       "      <td>9,165,135</td>\n",
       "    </tr>\n",
       "    <tr>\n",
       "      <th>4</th>\n",
       "      <td>소 계</td>\n",
       "      <td>55,597,865</td>\n",
       "      <td>56,123,014</td>\n",
       "      <td>55,915,814</td>\n",
       "      <td>55,304,053</td>\n",
       "      <td>55,492,863</td>\n",
       "      <td>56,062,226</td>\n",
       "      <td>56,117,192</td>\n",
       "      <td>56,189,734</td>\n",
       "      <td>56,231,970</td>\n",
       "      <td>56,231,687</td>\n",
       "      <td>56,156,794</td>\n",
       "      <td>55,852,257</td>\n",
       "      <td>55,955,481</td>\n",
       "      <td>56,144,454</td>\n",
       "    </tr>\n",
       "  </tbody>\n",
       "</table>\n",
       "</div>"
      ],
      "text/plain": [
       "  Unnamed: 0    2018.12월    2019.12월    2020.12월    2021.12월    2022.12월  \\\n",
       "0        SKT  23,784,297  24,083,359  24,110,027  23,750,143  23,277,848   \n",
       "1         KT  13,969,345  14,162,718  14,332,692  14,162,619  13,746,584   \n",
       "2       LGU+  10,762,371  11,066,096  11,379,823  11,308,639  11,198,523   \n",
       "3       MVNO   7,081,852   6,810,841   6,093,272   6,082,652   7,269,908   \n",
       "4        소 계  55,597,865  56,123,014  55,915,814  55,304,053  55,492,863   \n",
       "\n",
       "      2023.7월     2023.8월     2023.9월    2023.10월    2023.11월    2023.12월  \\\n",
       "0  23,164,492  23,123,256  23,094,699  23,058,911  23,022,980  22,977,041   \n",
       "1  13,619,689  13,602,118  13,591,062  13,576,962  13,551,171  13,516,647   \n",
       "2  11,046,604  11,024,107  11,010,874  10,994,852  10,974,697  10,943,839   \n",
       "3   8,231,441   8,367,711   8,493,099   8,601,245   8,682,839   8,719,267   \n",
       "4  56,062,226  56,117,192  56,189,734  56,231,970  56,231,687  56,156,794   \n",
       "\n",
       "      2024.1월     2024.2월     2024.3월  \n",
       "0  22,899,298  22,886,872  22,882,367  \n",
       "1  13,302,993  13,289,285  13,275,495  \n",
       "2  10,804,532  10,807,893  10,821,457  \n",
       "3   8,845,434   8,971,431   9,165,135  \n",
       "4  55,852,257  55,955,481  56,144,454  "
      ]
     },
     "execution_count": 103,
     "metadata": {},
     "output_type": "execute_result"
    }
   ],
   "source": [
    "df.head()"
   ]
  },
  {
   "cell_type": "code",
   "execution_count": 104,
   "id": "c400e5ac",
   "metadata": {},
   "outputs": [],
   "source": [
    "col_names = df.columns.tolist()"
   ]
  },
  {
   "cell_type": "code",
   "execution_count": 105,
   "id": "f59e12d1",
   "metadata": {},
   "outputs": [],
   "source": [
    "col_names = [\"통신사\"] + col_names[1:]"
   ]
  },
  {
   "cell_type": "code",
   "execution_count": 106,
   "id": "70bda69f",
   "metadata": {},
   "outputs": [],
   "source": [
    "df.columns = col_names"
   ]
  },
  {
   "cell_type": "code",
   "execution_count": 107,
   "id": "0c4ceaf1",
   "metadata": {},
   "outputs": [
    {
     "data": {
      "text/html": [
       "<div>\n",
       "<style scoped>\n",
       "    .dataframe tbody tr th:only-of-type {\n",
       "        vertical-align: middle;\n",
       "    }\n",
       "\n",
       "    .dataframe tbody tr th {\n",
       "        vertical-align: top;\n",
       "    }\n",
       "\n",
       "    .dataframe thead th {\n",
       "        text-align: right;\n",
       "    }\n",
       "</style>\n",
       "<table border=\"1\" class=\"dataframe\">\n",
       "  <thead>\n",
       "    <tr style=\"text-align: right;\">\n",
       "      <th></th>\n",
       "      <th>통신사</th>\n",
       "      <th>2018.12월</th>\n",
       "      <th>2019.12월</th>\n",
       "      <th>2020.12월</th>\n",
       "      <th>2021.12월</th>\n",
       "      <th>2022.12월</th>\n",
       "      <th>2023.7월</th>\n",
       "      <th>2023.8월</th>\n",
       "      <th>2023.9월</th>\n",
       "      <th>2023.10월</th>\n",
       "      <th>2023.11월</th>\n",
       "      <th>2023.12월</th>\n",
       "      <th>2024.1월</th>\n",
       "      <th>2024.2월</th>\n",
       "      <th>2024.3월</th>\n",
       "    </tr>\n",
       "  </thead>\n",
       "  <tbody>\n",
       "    <tr>\n",
       "      <th>0</th>\n",
       "      <td>SKT</td>\n",
       "      <td>23,784,297</td>\n",
       "      <td>24,083,359</td>\n",
       "      <td>24,110,027</td>\n",
       "      <td>23,750,143</td>\n",
       "      <td>23,277,848</td>\n",
       "      <td>23,164,492</td>\n",
       "      <td>23,123,256</td>\n",
       "      <td>23,094,699</td>\n",
       "      <td>23,058,911</td>\n",
       "      <td>23,022,980</td>\n",
       "      <td>22,977,041</td>\n",
       "      <td>22,899,298</td>\n",
       "      <td>22,886,872</td>\n",
       "      <td>22,882,367</td>\n",
       "    </tr>\n",
       "    <tr>\n",
       "      <th>1</th>\n",
       "      <td>KT</td>\n",
       "      <td>13,969,345</td>\n",
       "      <td>14,162,718</td>\n",
       "      <td>14,332,692</td>\n",
       "      <td>14,162,619</td>\n",
       "      <td>13,746,584</td>\n",
       "      <td>13,619,689</td>\n",
       "      <td>13,602,118</td>\n",
       "      <td>13,591,062</td>\n",
       "      <td>13,576,962</td>\n",
       "      <td>13,551,171</td>\n",
       "      <td>13,516,647</td>\n",
       "      <td>13,302,993</td>\n",
       "      <td>13,289,285</td>\n",
       "      <td>13,275,495</td>\n",
       "    </tr>\n",
       "    <tr>\n",
       "      <th>2</th>\n",
       "      <td>LGU+</td>\n",
       "      <td>10,762,371</td>\n",
       "      <td>11,066,096</td>\n",
       "      <td>11,379,823</td>\n",
       "      <td>11,308,639</td>\n",
       "      <td>11,198,523</td>\n",
       "      <td>11,046,604</td>\n",
       "      <td>11,024,107</td>\n",
       "      <td>11,010,874</td>\n",
       "      <td>10,994,852</td>\n",
       "      <td>10,974,697</td>\n",
       "      <td>10,943,839</td>\n",
       "      <td>10,804,532</td>\n",
       "      <td>10,807,893</td>\n",
       "      <td>10,821,457</td>\n",
       "    </tr>\n",
       "    <tr>\n",
       "      <th>3</th>\n",
       "      <td>MVNO</td>\n",
       "      <td>7,081,852</td>\n",
       "      <td>6,810,841</td>\n",
       "      <td>6,093,272</td>\n",
       "      <td>6,082,652</td>\n",
       "      <td>7,269,908</td>\n",
       "      <td>8,231,441</td>\n",
       "      <td>8,367,711</td>\n",
       "      <td>8,493,099</td>\n",
       "      <td>8,601,245</td>\n",
       "      <td>8,682,839</td>\n",
       "      <td>8,719,267</td>\n",
       "      <td>8,845,434</td>\n",
       "      <td>8,971,431</td>\n",
       "      <td>9,165,135</td>\n",
       "    </tr>\n",
       "    <tr>\n",
       "      <th>4</th>\n",
       "      <td>소 계</td>\n",
       "      <td>55,597,865</td>\n",
       "      <td>56,123,014</td>\n",
       "      <td>55,915,814</td>\n",
       "      <td>55,304,053</td>\n",
       "      <td>55,492,863</td>\n",
       "      <td>56,062,226</td>\n",
       "      <td>56,117,192</td>\n",
       "      <td>56,189,734</td>\n",
       "      <td>56,231,970</td>\n",
       "      <td>56,231,687</td>\n",
       "      <td>56,156,794</td>\n",
       "      <td>55,852,257</td>\n",
       "      <td>55,955,481</td>\n",
       "      <td>56,144,454</td>\n",
       "    </tr>\n",
       "  </tbody>\n",
       "</table>\n",
       "</div>"
      ],
      "text/plain": [
       "    통신사    2018.12월    2019.12월    2020.12월    2021.12월    2022.12월  \\\n",
       "0   SKT  23,784,297  24,083,359  24,110,027  23,750,143  23,277,848   \n",
       "1    KT  13,969,345  14,162,718  14,332,692  14,162,619  13,746,584   \n",
       "2  LGU+  10,762,371  11,066,096  11,379,823  11,308,639  11,198,523   \n",
       "3  MVNO   7,081,852   6,810,841   6,093,272   6,082,652   7,269,908   \n",
       "4   소 계  55,597,865  56,123,014  55,915,814  55,304,053  55,492,863   \n",
       "\n",
       "      2023.7월     2023.8월     2023.9월    2023.10월    2023.11월    2023.12월  \\\n",
       "0  23,164,492  23,123,256  23,094,699  23,058,911  23,022,980  22,977,041   \n",
       "1  13,619,689  13,602,118  13,591,062  13,576,962  13,551,171  13,516,647   \n",
       "2  11,046,604  11,024,107  11,010,874  10,994,852  10,974,697  10,943,839   \n",
       "3   8,231,441   8,367,711   8,493,099   8,601,245   8,682,839   8,719,267   \n",
       "4  56,062,226  56,117,192  56,189,734  56,231,970  56,231,687  56,156,794   \n",
       "\n",
       "      2024.1월     2024.2월     2024.3월  \n",
       "0  22,899,298  22,886,872  22,882,367  \n",
       "1  13,302,993  13,289,285  13,275,495  \n",
       "2  10,804,532  10,807,893  10,821,457  \n",
       "3   8,845,434   8,971,431   9,165,135  \n",
       "4  55,852,257  55,955,481  56,144,454  "
      ]
     },
     "execution_count": 107,
     "metadata": {},
     "output_type": "execute_result"
    }
   ],
   "source": [
    "df.head()"
   ]
  },
  {
   "cell_type": "code",
   "execution_count": 108,
   "id": "174def52",
   "metadata": {},
   "outputs": [],
   "source": [
    "# 데이터프레임을 길게 변환\n",
    "df_melted = df.melt(id_vars=[\"통신사\"], var_name=\"시간\", value_name=\"가입자수\")\n",
    "\n"
   ]
  },
  {
   "cell_type": "code",
   "execution_count": 109,
   "id": "011b647b",
   "metadata": {},
   "outputs": [
    {
     "data": {
      "text/html": [
       "<div>\n",
       "<style scoped>\n",
       "    .dataframe tbody tr th:only-of-type {\n",
       "        vertical-align: middle;\n",
       "    }\n",
       "\n",
       "    .dataframe tbody tr th {\n",
       "        vertical-align: top;\n",
       "    }\n",
       "\n",
       "    .dataframe thead th {\n",
       "        text-align: right;\n",
       "    }\n",
       "</style>\n",
       "<table border=\"1\" class=\"dataframe\">\n",
       "  <thead>\n",
       "    <tr style=\"text-align: right;\">\n",
       "      <th></th>\n",
       "      <th>통신사</th>\n",
       "      <th>시간</th>\n",
       "      <th>가입자수</th>\n",
       "    </tr>\n",
       "  </thead>\n",
       "  <tbody>\n",
       "    <tr>\n",
       "      <th>0</th>\n",
       "      <td>SKT</td>\n",
       "      <td>2018.12월</td>\n",
       "      <td>23,784,297</td>\n",
       "    </tr>\n",
       "    <tr>\n",
       "      <th>1</th>\n",
       "      <td>KT</td>\n",
       "      <td>2018.12월</td>\n",
       "      <td>13,969,345</td>\n",
       "    </tr>\n",
       "    <tr>\n",
       "      <th>2</th>\n",
       "      <td>LGU+</td>\n",
       "      <td>2018.12월</td>\n",
       "      <td>10,762,371</td>\n",
       "    </tr>\n",
       "    <tr>\n",
       "      <th>3</th>\n",
       "      <td>MVNO</td>\n",
       "      <td>2018.12월</td>\n",
       "      <td>7,081,852</td>\n",
       "    </tr>\n",
       "    <tr>\n",
       "      <th>4</th>\n",
       "      <td>소 계</td>\n",
       "      <td>2018.12월</td>\n",
       "      <td>55,597,865</td>\n",
       "    </tr>\n",
       "  </tbody>\n",
       "</table>\n",
       "</div>"
      ],
      "text/plain": [
       "    통신사        시간        가입자수\n",
       "0   SKT  2018.12월  23,784,297\n",
       "1    KT  2018.12월  13,969,345\n",
       "2  LGU+  2018.12월  10,762,371\n",
       "3  MVNO  2018.12월   7,081,852\n",
       "4   소 계  2018.12월  55,597,865"
      ]
     },
     "execution_count": 109,
     "metadata": {},
     "output_type": "execute_result"
    }
   ],
   "source": [
    "df_melted.head()"
   ]
  },
  {
   "cell_type": "code",
   "execution_count": 110,
   "id": "f85a053c",
   "metadata": {},
   "outputs": [
    {
     "name": "stdout",
     "output_type": "stream",
     "text": [
      "<class 'pandas.core.frame.DataFrame'>\n",
      "RangeIndex: 70 entries, 0 to 69\n",
      "Data columns (total 3 columns):\n",
      " #   Column  Non-Null Count  Dtype \n",
      "---  ------  --------------  ----- \n",
      " 0   통신사     70 non-null     object\n",
      " 1   시간      70 non-null     object\n",
      " 2   가입자수    70 non-null     object\n",
      "dtypes: object(3)\n",
      "memory usage: 1.8+ KB\n"
     ]
    }
   ],
   "source": [
    "df_melted.info()"
   ]
  },
  {
   "cell_type": "code",
   "execution_count": 111,
   "id": "a439661a",
   "metadata": {},
   "outputs": [
    {
     "data": {
      "text/html": [
       "<div>\n",
       "<style scoped>\n",
       "    .dataframe tbody tr th:only-of-type {\n",
       "        vertical-align: middle;\n",
       "    }\n",
       "\n",
       "    .dataframe tbody tr th {\n",
       "        vertical-align: top;\n",
       "    }\n",
       "\n",
       "    .dataframe thead th {\n",
       "        text-align: right;\n",
       "    }\n",
       "</style>\n",
       "<table border=\"1\" class=\"dataframe\">\n",
       "  <thead>\n",
       "    <tr style=\"text-align: right;\">\n",
       "      <th></th>\n",
       "      <th>통신사</th>\n",
       "      <th>시간</th>\n",
       "      <th>가입자수</th>\n",
       "    </tr>\n",
       "  </thead>\n",
       "  <tbody>\n",
       "    <tr>\n",
       "      <th>0</th>\n",
       "      <td>SKT</td>\n",
       "      <td>2018.12월</td>\n",
       "      <td>23784297</td>\n",
       "    </tr>\n",
       "    <tr>\n",
       "      <th>1</th>\n",
       "      <td>KT</td>\n",
       "      <td>2018.12월</td>\n",
       "      <td>13969345</td>\n",
       "    </tr>\n",
       "    <tr>\n",
       "      <th>2</th>\n",
       "      <td>LGU+</td>\n",
       "      <td>2018.12월</td>\n",
       "      <td>10762371</td>\n",
       "    </tr>\n",
       "    <tr>\n",
       "      <th>3</th>\n",
       "      <td>MVNO</td>\n",
       "      <td>2018.12월</td>\n",
       "      <td>7081852</td>\n",
       "    </tr>\n",
       "    <tr>\n",
       "      <th>4</th>\n",
       "      <td>소 계</td>\n",
       "      <td>2018.12월</td>\n",
       "      <td>55597865</td>\n",
       "    </tr>\n",
       "  </tbody>\n",
       "</table>\n",
       "</div>"
      ],
      "text/plain": [
       "    통신사        시간      가입자수\n",
       "0   SKT  2018.12월  23784297\n",
       "1    KT  2018.12월  13969345\n",
       "2  LGU+  2018.12월  10762371\n",
       "3  MVNO  2018.12월   7081852\n",
       "4   소 계  2018.12월  55597865"
      ]
     },
     "execution_count": 111,
     "metadata": {},
     "output_type": "execute_result"
    }
   ],
   "source": [
    "# 숫자 열의 쉼표(,) 제거하고 int로 변환\n",
    "df_melted[\"가입자수\"] = df_melted[\"가입자수\"].str.replace(\",\", \"\").astype(int)\n",
    "df_melted.head()"
   ]
  },
  {
   "cell_type": "code",
   "execution_count": 112,
   "id": "2d240155",
   "metadata": {},
   "outputs": [],
   "source": [
    "df_melted = df_melted.loc[df_melted[\"통신사\"] != \"소 계\", :]"
   ]
  },
  {
   "cell_type": "code",
   "execution_count": 113,
   "id": "1e8fcd08",
   "metadata": {},
   "outputs": [
    {
     "data": {
      "text/plain": [
       "Index(['통신사', '시간', '가입자수'], dtype='object')"
      ]
     },
     "execution_count": 113,
     "metadata": {},
     "output_type": "execute_result"
    }
   ],
   "source": [
    "df_melted.columns"
   ]
  },
  {
   "cell_type": "code",
   "execution_count": 114,
   "id": "73679f7a",
   "metadata": {},
   "outputs": [],
   "source": [
    "df_melted = df_melted[df_melted[\"시간\"].str.endswith(\".12월\")]"
   ]
  },
  {
   "cell_type": "code",
   "execution_count": 126,
   "id": "abe0fbc1",
   "metadata": {
    "scrolled": false
   },
   "outputs": [
    {
     "data": {
      "text/plain": [
       "(5500000.0, 9000000.0)"
      ]
     },
     "execution_count": 126,
     "metadata": {},
     "output_type": "execute_result"
    },
    {
     "data": {
      "image/png": "[encoded data removed]",
      "text/plain": [
       "<Figure size 700x500 with 1 Axes>"
      ]
     },
     "metadata": {},
     "output_type": "display_data"
    }
   ],
   "source": [
    "plt.figure(figsize=(7, 5))\n",
    "colors = sns.color_palette(\"Spectral\")\n",
    "sns.barplot(data=df_melted[df_melted[\"통신사\"] == \"MVNO\"], x=\"시간\", hue=\"통신사\", y=\"가입자수\",  palette=\"Blues\")\n",
    "plt.ylim(5.5e6, 9e6)"
   ]
  },
  {
   "cell_type": "code",
   "execution_count": 99,
   "id": "39867377",
   "metadata": {},
   "outputs": [
    {
     "data": {
      "image/png": "[encoded data removed]",
      "text/plain": [
       "<Figure size 1400x800 with 1 Axes>"
      ]
     },
     "metadata": {},
     "output_type": "display_data"
    },
    {
     "data": {
      "image/png": "[encoded data removed]",
      "text/plain": [
       "<Figure size 900x500 with 2 Axes>"
      ]
     },
     "metadata": {},
     "output_type": "display_data"
    }
   ],
   "source": [
    "plt.figure(figsize=(14, 8))\n",
    "colors = sns.color_palette(\"Spectral\")\n",
    "sns.barplot(data=df_melted, x=\"시간\", hue=\"통신사\", y=\"가입자수\",  palette=\"Spectral\")\n",
    "plt.ylim(5e6, 30e6)\n",
    "\n",
    "df = df_melted\n",
    "# seaborn의 색상 팔레트 설정\n",
    "# 파이차트를 위한 데이터 추출\n",
    "total_subscribers = df.groupby(\"통신사\")[\"가입자수\"].sum()\n",
    "# 바플롯을 위한 데이터프레임 생성\n",
    "bar_data = df[df[\"시간\"] == \"2023.12월\"]\n",
    "\n",
    "# 바플롯 생성\n",
    "plt.figure(figsize=(9, 5))\n",
    "plt.subplot(1, 2, 1)\n",
    "plt.bar(bar_data[\"통신사\"], bar_data[\"가입자수\"], color=[colors[1], colors[2], colors[3], colors[4]])\n",
    "plt.title(\"통신사별 2023년 12월 가입자수\")\n",
    "plt.xlabel(\"통신사\")\n",
    "plt.ylabel(\"가입자수\")\n",
    "\n",
    "# 파이차트 생성\n",
    "plt.subplot(1, 2, 2)\n",
    "plt.pie(total_subscribers, labels=total_subscribers.index, autopct='%1.1f%%', startangle=140,  colors=[colors[2], colors[3], colors[4],colors[1]])\n",
    "plt.title(\"통신사별 2023년 12월 가입자수 비율\")\n",
    "\n",
    "# 그래프 출력\n",
    "plt.tight_layout()\n",
    "plt.show()"
   ]
  },
  {
   "cell_type": "code",
   "execution_count": 93,
   "id": "1e791320",
   "metadata": {},
   "outputs": [
    {
     "data": {
      "text/html": [
       "<svg  width=\"330\" height=\"55\"><rect x=\"0\" y=\"0\" width=\"55\" height=\"55\" style=\"fill:#e2514a;stroke-width:2;stroke:rgb(255,255,255)\"/><rect x=\"55\" y=\"0\" width=\"55\" height=\"55\" style=\"fill:#fca55d;stroke-width:2;stroke:rgb(255,255,255)\"/><rect x=\"110\" y=\"0\" width=\"55\" height=\"55\" style=\"fill:#fee999;stroke-width:2;stroke:rgb(255,255,255)\"/><rect x=\"165\" y=\"0\" width=\"55\" height=\"55\" style=\"fill:#edf8a3;stroke-width:2;stroke:rgb(255,255,255)\"/><rect x=\"220\" y=\"0\" width=\"55\" height=\"55\" style=\"fill:#a2d9a4;stroke-width:2;stroke:rgb(255,255,255)\"/><rect x=\"275\" y=\"0\" width=\"55\" height=\"55\" style=\"fill:#47a0b3;stroke-width:2;stroke:rgb(255,255,255)\"/></svg>"
      ],
      "text/plain": [
       "[(0.8853517877739331, 0.3190311418685121, 0.29042675893886966),\n",
       " (0.9873125720876587, 0.6473663975394078, 0.3642445213379469),\n",
       " (0.9971549404075356, 0.9118031526336025, 0.6010765090349866),\n",
       " (0.9288735101883892, 0.9715494040753557, 0.6380622837370243),\n",
       " (0.6334486735870821, 0.8521337946943485, 0.6436755094194541),\n",
       " (0.2800461361014994, 0.6269896193771626, 0.7024221453287197)]"
      ]
     },
     "execution_count": 93,
     "metadata": {},
     "output_type": "execute_result"
    }
   ],
   "source": [
    "colors"
   ]
  },
  {
   "cell_type": "code",
   "execution_count": 92,
   "id": "92792868",
   "metadata": {},
   "outputs": [
    {
     "name": "stdout",
     "output_type": "stream",
     "text": [
      "(0.8853517877739331, 0.3190311418685121, 0.29042675893886966)\n",
      "(0.9873125720876587, 0.6473663975394078, 0.3642445213379469)\n",
      "(0.9971549404075356, 0.9118031526336025, 0.6010765090349866)\n",
      "(0.9288735101883892, 0.9715494040753557, 0.6380622837370243)\n",
      "(0.6334486735870821, 0.8521337946943485, 0.6436755094194541)\n",
      "(0.2800461361014994, 0.6269896193771626, 0.7024221453287197)\n"
     ]
    }
   ],
   "source": [
    "# 색상 코드 출력\n",
    "for color in colors:\n",
    "    print(color)\n"
   ]
  },
  {
   "cell_type": "code",
   "execution_count": 94,
   "id": "957ce0c0",
   "metadata": {},
   "outputs": [
    {
     "data": {
      "text/plain": [
       "통신사\n",
       "KT       83890605\n",
       "LGU+     66659291\n",
       "MVNO     42057792\n",
       "SKT     141982715\n",
       "Name: 가입자수, dtype: int64"
      ]
     },
     "execution_count": 94,
     "metadata": {},
     "output_type": "execute_result"
    }
   ],
   "source": [
    "total_subscribers"
   ]
  },
  {
   "cell_type": "code",
   "execution_count": null,
   "id": "8e97d144",
   "metadata": {},
   "outputs": [],
   "source": []
  }
 ],
 "metadata": {
  "kernelspec": {
   "display_name": "Python [conda env:Rucious]",
   "language": "python",
   "name": "conda-env-Rucious-py"
  },
  "language_info": {
   "codemirror_mode": {
    "name": "ipython",
    "version": 3
   },
   "file_extension": ".py",
   "mimetype": "text/x-python",
   "name": "python",
   "nbconvert_exporter": "python",
   "pygments_lexer": "ipython3",
   "version": "3.8.19"
  }
 },
 "nbformat": 4,
 "nbformat_minor": 5
}
