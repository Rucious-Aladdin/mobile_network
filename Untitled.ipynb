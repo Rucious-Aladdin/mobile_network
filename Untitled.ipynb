{
 "cells": [
  {
   "cell_type": "code",
   "execution_count": 1,
   "id": "83b2e435",
   "metadata": {},
   "outputs": [],
   "source": [
    "import pandas as pd\n",
    "import seaborn as sns\n",
    "import matplotlib.pyplot as plt\n",
    "from sklearn.model_selection import train_test_split\n",
    "from sklearn.tree import DecisionTreeClassifier\n",
    "from sklearn.ensemble import RandomForestClassifier, GradientBoostingClassifier\n",
    "from sklearn.metrics import mean_squared_error, mean_absolute_error, confusion_matrix\n",
    "import os\n",
    "import numpy as np\n",
    "from sklearn.preprocessing import StandardScaler\n",
    "from sklearn.linear_model import LogisticRegression\n",
    "import statsmodels.api as sm\n",
    "#나눔 고딕 적용\n",
    "import matplotlib.font_manager\n",
    "font_list = matplotlib.font_manager.findSystemFonts(fontpaths=None, fontext='ttf')\n",
    "[matplotlib.font_manager.FontProperties(fname=font).get_name() for font in font_list if 'Nanum' in font]\n",
    "\\\n",
    "import matplotlib.pyplot as plt\n",
    "plt.rc('font', family='NanumGothicCoding')\n",
    "\\\n",
    "import matplotlib as mpl\n",
    "mpl.rcParams['axes.unicode_minus'] = False\n",
    "\n",
    "matplotlib.rc(\"axes\", unicode_minus = False)\n",
    "from sklearn.model_selection import train_test_split\n",
    "# export_graphviz: 나무 구조 생성 및 저장\n",
    "from sklearn.tree import export_graphviz\n",
    "import graphviz\n",
    "from sklearn.model_selection import train_test_split, LeavePOut\n",
    "from sklearn.model_selection import GridSearchCV\n",
    "from sklearn.ensemble import RandomForestClassifier, GradientBoostingClassifier\n",
    "from sklearn.tree import DecisionTreeClassifier\n",
    "\n",
    "from sklearn.metrics import accuracy_score, precision_score, f1_score, recall_score\n",
    "from sklearn.metrics import confusion_matrix, ConfusionMatrixDisplay, classification_report\n",
    "from sklearn.model_selection import KFold\n",
    "import itertools\n",
    "from sklearn.preprocessing import MinMaxScaler\n",
    "from sklearn.preprocessing import StandardScaler, MinMaxScaler"
   ]
  },
  {
   "cell_type": "code",
   "execution_count": 2,
   "id": "43fd3158",
   "metadata": {},
   "outputs": [],
   "source": [
    "def measure(clf, x_test, y_test, target_name=None):\n",
    "    y_pred = clf.predict(x_test)\n",
    "    report = classification_report(y_test, y_pred, target_names=target_name)\n",
    "    print(\"분류 보고서:\\n\")\n",
    "    print(report)\n",
    "    cm = confusion_matrix(y_test, y_pred)\n",
    "    disp = ConfusionMatrixDisplay(confusion_matrix=cm, display_labels=target_name)\n",
    "    disp.plot(cmap=plt.cm.Blues)\n",
    "    plt.show()"
   ]
  },
  {
   "cell_type": "code",
   "execution_count": 3,
   "id": "27e18a24",
   "metadata": {},
   "outputs": [],
   "source": [
    "df_raw = pd.read_csv(\"../data/Customer_data.csv\", encoding=\"euc-kr\")"
   ]
  },
  {
   "cell_type": "code",
   "execution_count": 8,
   "id": "924ab6ad",
   "metadata": {},
   "outputs": [],
   "source": [
    "save_path = \"/home/piai/빅데이터프로젝트/data\"\n",
    "file_name1 = \"../data/preprocessed_v1.0.csv\"\n",
    "file_name2 = \"../data/Charge_data.csv\"\n",
    "df1 = pd.read_csv(os.path.join(save_path, file_name1), encoding=\"euc-kr\")\n",
    "df2 = pd.read_csv(os.path.join(save_path, file_name2), encoding=\"euc-kr\")"
   ]
  },
  {
   "cell_type": "code",
   "execution_count": 9,
   "id": "91329350",
   "metadata": {},
   "outputs": [],
   "source": [
    "# 데이터 로드\n",
    "customer_data = df_raw\n",
    "\n",
    "billing_data = df2"
   ]
  },
  {
   "cell_type": "code",
   "execution_count": 10,
   "id": "acfa87ec",
   "metadata": {},
   "outputs": [],
   "source": [
    "import numpy as np\n",
    "import pandas as pd\n",
    "\n",
    "def nearest_first_day_of_month(date):\n",
    "    # 주어진 날짜의 월과 연도를 추출합니다.\n",
    "    month = date.month\n",
    "    year = date.year\n",
    "    \n",
    "    # 해당 월의 1일을 만듭니다.\n",
    "    first_day_of_month = pd.Timestamp(year, month, 1)\n",
    "    \n",
    "    # 주어진 날짜가 해당 월의 1일에 가까운지 확인합니다.\n",
    "    if date - first_day_of_month <= np.timedelta64(15, 'D'):\n",
    "        return first_day_of_month\n",
    "    else:\n",
    "        # 다음 달의 1일을 반환합니다.\n",
    "        if month == 12:\n",
    "            return pd.Timestamp(year + 1, 1, 1)\n",
    "        else:\n",
    "            return pd.Timestamp(year, month + 1, 1)"
   ]
  },
  {
   "cell_type": "code",
   "execution_count": 13,
   "id": "e72dca71",
   "metadata": {},
   "outputs": [],
   "source": [
    "billing_data['과금일'] = pd.to_datetime(billing_data['과금일'])\n",
    "billing_data['과금일'] = billing_data['과금일'].apply(nearest_first_day_of_month)"
   ]
  },
  {
   "cell_type": "code",
   "execution_count": 21,
   "id": "99efa30f",
   "metadata": {},
   "outputs": [],
   "source": [
    "billing_data['과금일'] = pd.to_datetime(billing_data['과금일'])\n",
    "\n",
    "# Calculate billing statistics\n",
    "billing_stats = billing_data.groupby('고객ID').agg(\n",
    "    시작일=('과금일', 'min'),\n",
    "    종료일=('과금일', 'max'),\n",
    "    총과금액=('과금액', 'sum')\n",
    ").reset_index()\n",
    "\n",
    "# Calculate number of months between 시작일 and 종료일\n",
    "billing_stats['개월수'] = (billing_stats['종료일'].dt.year - billing_stats['시작일'].dt.year) * 12 + \\\n",
    "                          (billing_stats['종료일'].dt.month - billing_stats['시작일'].dt.month) + 1\n",
    "\n",
    "# Merge the customer data with billing statistics\n",
    "merged_data = pd.merge(customer_data, billing_stats, on='고객ID', how='left')\n",
    "\n"
   ]
  },
  {
   "cell_type": "code",
   "execution_count": 22,
   "id": "d8c8dabf",
   "metadata": {},
   "outputs": [
    {
     "data": {
      "text/plain": [
       "Index(['고객ID', '성별', '연령', '결혼여부', '부양자유무', '부양자수', '추천횟수', '영수증발급여부', '과금방식',\n",
       "       '보안서비스', '백업서비스', '기술지원서비스', '데이터무제한', '데이터사용량', '시작일_x', '종료일_x',\n",
       "       '고객이탈여부', '이탈가능점수', '이탈유형', '이탈사유', 'LTV', '만족도', '데이터사용료', '로밍사용료',\n",
       "       '총로밍요금', '시작일_y', '종료일_y', '총과금액', '개월수'],\n",
       "      dtype='object')"
      ]
     },
     "execution_count": 22,
     "metadata": {},
     "output_type": "execute_result"
    }
   ],
   "source": [
    "merged_data.columns"
   ]
  },
  {
   "cell_type": "code",
   "execution_count": 24,
   "id": "2870e0a7",
   "metadata": {},
   "outputs": [],
   "source": [
    "merged_data.columns = ['고객ID', '성별', '연령', '결혼여부', '부양자유무', '부양자수', '추천횟수', '영수증발급여부', '과금방식',\n",
    "       '보안서비스', '백업서비스', '기술지원서비스', '데이터무제한', '데이터사용량', '서비스시작일', '서비스종료일',\n",
    "       '고객이탈여부', '이탈가능점수', '이탈유형', '이탈사유', 'LTV', '만족도', '데이터사용료', '로밍사용료',\n",
    "       '총로밍요금', '납부시작일', '납부종료일', '총과금액', '개월수']"
   ]
  },
  {
   "cell_type": "code",
   "execution_count": 26,
   "id": "66a103d0",
   "metadata": {},
   "outputs": [],
   "source": [
    "merged_data[\"월당객단가\"] = merged_data[\"총과금액\"] / merged_data[\"개월수\"]"
   ]
  },
  {
   "cell_type": "code",
   "execution_count": 27,
   "id": "860113ec",
   "metadata": {},
   "outputs": [
    {
     "data": {
      "text/plain": [
       "Index(['고객ID', '성별', '연령', '결혼여부', '부양자유무', '부양자수', '추천횟수', '영수증발급여부', '과금방식',\n",
       "       '보안서비스', '백업서비스', '기술지원서비스', '데이터무제한', '데이터사용량', '서비스시작일', '서비스종료일',\n",
       "       '고객이탈여부', '이탈가능점수', '이탈유형', '이탈사유', 'LTV', '만족도', '데이터사용료', '로밍사용료',\n",
       "       '총로밍요금', '납부시작일', '납부종료일', '총과금액', '개월수', '월당객단가'],\n",
       "      dtype='object')"
      ]
     },
     "execution_count": 27,
     "metadata": {},
     "output_type": "execute_result"
    }
   ],
   "source": [
    "merged_data.columns"
   ]
  },
  {
   "cell_type": "code",
   "execution_count": 28,
   "id": "b51416e0",
   "metadata": {},
   "outputs": [],
   "source": [
    "import seaborn as sns"
   ]
  },
  {
   "cell_type": "code",
   "execution_count": null,
   "id": "541da779",
   "metadata": {},
   "outputs": [],
   "source": []
  }
 ],
 "metadata": {
  "kernelspec": {
   "display_name": "Python [conda env:Rucious]",
   "language": "python",
   "name": "conda-env-Rucious-py"
  },
  "language_info": {
   "codemirror_mode": {
    "name": "ipython",
    "version": 3
   },
   "file_extension": ".py",
   "mimetype": "text/x-python",
   "name": "python",
   "nbconvert_exporter": "python",
   "pygments_lexer": "ipython3",
   "version": "3.8.19"
  }
 },
 "nbformat": 4,
 "nbformat_minor": 5
}
