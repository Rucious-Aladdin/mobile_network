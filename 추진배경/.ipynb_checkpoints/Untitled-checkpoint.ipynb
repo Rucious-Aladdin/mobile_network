{
 "cells": [
  {
   "cell_type": "code",
   "execution_count": 40,
   "id": "1fd2c0a8",
   "metadata": {},
   "outputs": [],
   "source": [
    "import pandas as pd\n",
    "import seaborn as sns\n",
    "import os\n",
    "import matplotlib.pyplot as plt\n",
    "import matplotlib.font_manager\n",
    "font_list = matplotlib.font_manager.findSystemFonts(fontpaths=None, fontext='ttf')\n",
    "[matplotlib.font_manager.FontProperties(fname=font).get_name() for font in font_list if 'Nanum' in font]\n",
    "\\\n",
    "import matplotlib.pyplot as plt\n",
    "plt.rc('font', family='NanumGothicCoding')\n",
    "\\\n",
    "import matplotlib as mpl\n",
    "mpl.rcParams['axes.unicode_minus'] = False"
   ]
  },
  {
   "cell_type": "code",
   "execution_count": 18,
   "id": "d3a12620",
   "metadata": {},
   "outputs": [],
   "source": [
    "save_path = \"~/빅데이터프로젝트/추진배경/\"\n",
    "file_name = \"알뜰폰.csv\""
   ]
  },
  {
   "cell_type": "code",
   "execution_count": 19,
   "id": "bf9fc55f",
   "metadata": {},
   "outputs": [],
   "source": [
    "df = pd.read_csv(os.path.join(save_path, file_name), encoding=\"euc-kr\")"
   ]
  },
  {
   "cell_type": "code",
   "execution_count": 20,
   "id": "f3d7a3d4",
   "metadata": {},
   "outputs": [
    {
     "data": {
      "text/html": [
       "<div>\n",
       "<style scoped>\n",
       "    .dataframe tbody tr th:only-of-type {\n",
       "        vertical-align: middle;\n",
       "    }\n",
       "\n",
       "    .dataframe tbody tr th {\n",
       "        vertical-align: top;\n",
       "    }\n",
       "\n",
       "    .dataframe thead th {\n",
       "        text-align: right;\n",
       "    }\n",
       "</style>\n",
       "<table border=\"1\" class=\"dataframe\">\n",
       "  <thead>\n",
       "    <tr style=\"text-align: right;\">\n",
       "      <th></th>\n",
       "      <th>Unnamed: 0</th>\n",
       "      <th>2018.12월</th>\n",
       "      <th>2019.12월</th>\n",
       "      <th>2020.12월</th>\n",
       "      <th>2021.12월</th>\n",
       "      <th>2022.12월</th>\n",
       "      <th>2023.7월</th>\n",
       "      <th>2023.8월</th>\n",
       "      <th>2023.9월</th>\n",
       "      <th>2023.10월</th>\n",
       "      <th>2023.11월</th>\n",
       "      <th>2023.12월</th>\n",
       "      <th>2024.1월</th>\n",
       "      <th>2024.2월</th>\n",
       "      <th>2024.3월</th>\n",
       "    </tr>\n",
       "  </thead>\n",
       "  <tbody>\n",
       "    <tr>\n",
       "      <th>0</th>\n",
       "      <td>SKT</td>\n",
       "      <td>23,784,297</td>\n",
       "      <td>24,083,359</td>\n",
       "      <td>24,110,027</td>\n",
       "      <td>23,750,143</td>\n",
       "      <td>23,277,848</td>\n",
       "      <td>23,164,492</td>\n",
       "      <td>23,123,256</td>\n",
       "      <td>23,094,699</td>\n",
       "      <td>23,058,911</td>\n",
       "      <td>23,022,980</td>\n",
       "      <td>22,977,041</td>\n",
       "      <td>22,899,298</td>\n",
       "      <td>22,886,872</td>\n",
       "      <td>22,882,367</td>\n",
       "    </tr>\n",
       "    <tr>\n",
       "      <th>1</th>\n",
       "      <td>KT</td>\n",
       "      <td>13,969,345</td>\n",
       "      <td>14,162,718</td>\n",
       "      <td>14,332,692</td>\n",
       "      <td>14,162,619</td>\n",
       "      <td>13,746,584</td>\n",
       "      <td>13,619,689</td>\n",
       "      <td>13,602,118</td>\n",
       "      <td>13,591,062</td>\n",
       "      <td>13,576,962</td>\n",
       "      <td>13,551,171</td>\n",
       "      <td>13,516,647</td>\n",
       "      <td>13,302,993</td>\n",
       "      <td>13,289,285</td>\n",
       "      <td>13,275,495</td>\n",
       "    </tr>\n",
       "    <tr>\n",
       "      <th>2</th>\n",
       "      <td>LGU+</td>\n",
       "      <td>10,762,371</td>\n",
       "      <td>11,066,096</td>\n",
       "      <td>11,379,823</td>\n",
       "      <td>11,308,639</td>\n",
       "      <td>11,198,523</td>\n",
       "      <td>11,046,604</td>\n",
       "      <td>11,024,107</td>\n",
       "      <td>11,010,874</td>\n",
       "      <td>10,994,852</td>\n",
       "      <td>10,974,697</td>\n",
       "      <td>10,943,839</td>\n",
       "      <td>10,804,532</td>\n",
       "      <td>10,807,893</td>\n",
       "      <td>10,821,457</td>\n",
       "    </tr>\n",
       "    <tr>\n",
       "      <th>3</th>\n",
       "      <td>MVNO</td>\n",
       "      <td>7,081,852</td>\n",
       "      <td>6,810,841</td>\n",
       "      <td>6,093,272</td>\n",
       "      <td>6,082,652</td>\n",
       "      <td>7,269,908</td>\n",
       "      <td>8,231,441</td>\n",
       "      <td>8,367,711</td>\n",
       "      <td>8,493,099</td>\n",
       "      <td>8,601,245</td>\n",
       "      <td>8,682,839</td>\n",
       "      <td>8,719,267</td>\n",
       "      <td>8,845,434</td>\n",
       "      <td>8,971,431</td>\n",
       "      <td>9,165,135</td>\n",
       "    </tr>\n",
       "    <tr>\n",
       "      <th>4</th>\n",
       "      <td>소 계</td>\n",
       "      <td>55,597,865</td>\n",
       "      <td>56,123,014</td>\n",
       "      <td>55,915,814</td>\n",
       "      <td>55,304,053</td>\n",
       "      <td>55,492,863</td>\n",
       "      <td>56,062,226</td>\n",
       "      <td>56,117,192</td>\n",
       "      <td>56,189,734</td>\n",
       "      <td>56,231,970</td>\n",
       "      <td>56,231,687</td>\n",
       "      <td>56,156,794</td>\n",
       "      <td>55,852,257</td>\n",
       "      <td>55,955,481</td>\n",
       "      <td>56,144,454</td>\n",
       "    </tr>\n",
       "  </tbody>\n",
       "</table>\n",
       "</div>"
      ],
      "text/plain": [
       "  Unnamed: 0    2018.12월    2019.12월    2020.12월    2021.12월    2022.12월  \\\n",
       "0        SKT  23,784,297  24,083,359  24,110,027  23,750,143  23,277,848   \n",
       "1         KT  13,969,345  14,162,718  14,332,692  14,162,619  13,746,584   \n",
       "2       LGU+  10,762,371  11,066,096  11,379,823  11,308,639  11,198,523   \n",
       "3       MVNO   7,081,852   6,810,841   6,093,272   6,082,652   7,269,908   \n",
       "4        소 계  55,597,865  56,123,014  55,915,814  55,304,053  55,492,863   \n",
       "\n",
       "      2023.7월     2023.8월     2023.9월    2023.10월    2023.11월    2023.12월  \\\n",
       "0  23,164,492  23,123,256  23,094,699  23,058,911  23,022,980  22,977,041   \n",
       "1  13,619,689  13,602,118  13,591,062  13,576,962  13,551,171  13,516,647   \n",
       "2  11,046,604  11,024,107  11,010,874  10,994,852  10,974,697  10,943,839   \n",
       "3   8,231,441   8,367,711   8,493,099   8,601,245   8,682,839   8,719,267   \n",
       "4  56,062,226  56,117,192  56,189,734  56,231,970  56,231,687  56,156,794   \n",
       "\n",
       "      2024.1월     2024.2월     2024.3월  \n",
       "0  22,899,298  22,886,872  22,882,367  \n",
       "1  13,302,993  13,289,285  13,275,495  \n",
       "2  10,804,532  10,807,893  10,821,457  \n",
       "3   8,845,434   8,971,431   9,165,135  \n",
       "4  55,852,257  55,955,481  56,144,454  "
      ]
     },
     "execution_count": 20,
     "metadata": {},
     "output_type": "execute_result"
    }
   ],
   "source": [
    "df.head()"
   ]
  },
  {
   "cell_type": "code",
   "execution_count": 21,
   "id": "561258cb",
   "metadata": {},
   "outputs": [],
   "source": [
    "col_names = df.columns.tolist()"
   ]
  },
  {
   "cell_type": "code",
   "execution_count": 22,
   "id": "848125f6",
   "metadata": {},
   "outputs": [],
   "source": [
    "col_names = [\"통신사\"] + col_names[1:]"
   ]
  },
  {
   "cell_type": "code",
   "execution_count": 23,
   "id": "085782c1",
   "metadata": {},
   "outputs": [],
   "source": [
    "df.columns = col_names"
   ]
  },
  {
   "cell_type": "code",
   "execution_count": 24,
   "id": "81a619c8",
   "metadata": {},
   "outputs": [
    {
     "data": {
      "text/html": [
       "<div>\n",
       "<style scoped>\n",
       "    .dataframe tbody tr th:only-of-type {\n",
       "        vertical-align: middle;\n",
       "    }\n",
       "\n",
       "    .dataframe tbody tr th {\n",
       "        vertical-align: top;\n",
       "    }\n",
       "\n",
       "    .dataframe thead th {\n",
       "        text-align: right;\n",
       "    }\n",
       "</style>\n",
       "<table border=\"1\" class=\"dataframe\">\n",
       "  <thead>\n",
       "    <tr style=\"text-align: right;\">\n",
       "      <th></th>\n",
       "      <th>통신사</th>\n",
       "      <th>2018.12월</th>\n",
       "      <th>2019.12월</th>\n",
       "      <th>2020.12월</th>\n",
       "      <th>2021.12월</th>\n",
       "      <th>2022.12월</th>\n",
       "      <th>2023.7월</th>\n",
       "      <th>2023.8월</th>\n",
       "      <th>2023.9월</th>\n",
       "      <th>2023.10월</th>\n",
       "      <th>2023.11월</th>\n",
       "      <th>2023.12월</th>\n",
       "      <th>2024.1월</th>\n",
       "      <th>2024.2월</th>\n",
       "      <th>2024.3월</th>\n",
       "    </tr>\n",
       "  </thead>\n",
       "  <tbody>\n",
       "    <tr>\n",
       "      <th>0</th>\n",
       "      <td>SKT</td>\n",
       "      <td>23,784,297</td>\n",
       "      <td>24,083,359</td>\n",
       "      <td>24,110,027</td>\n",
       "      <td>23,750,143</td>\n",
       "      <td>23,277,848</td>\n",
       "      <td>23,164,492</td>\n",
       "      <td>23,123,256</td>\n",
       "      <td>23,094,699</td>\n",
       "      <td>23,058,911</td>\n",
       "      <td>23,022,980</td>\n",
       "      <td>22,977,041</td>\n",
       "      <td>22,899,298</td>\n",
       "      <td>22,886,872</td>\n",
       "      <td>22,882,367</td>\n",
       "    </tr>\n",
       "    <tr>\n",
       "      <th>1</th>\n",
       "      <td>KT</td>\n",
       "      <td>13,969,345</td>\n",
       "      <td>14,162,718</td>\n",
       "      <td>14,332,692</td>\n",
       "      <td>14,162,619</td>\n",
       "      <td>13,746,584</td>\n",
       "      <td>13,619,689</td>\n",
       "      <td>13,602,118</td>\n",
       "      <td>13,591,062</td>\n",
       "      <td>13,576,962</td>\n",
       "      <td>13,551,171</td>\n",
       "      <td>13,516,647</td>\n",
       "      <td>13,302,993</td>\n",
       "      <td>13,289,285</td>\n",
       "      <td>13,275,495</td>\n",
       "    </tr>\n",
       "    <tr>\n",
       "      <th>2</th>\n",
       "      <td>LGU+</td>\n",
       "      <td>10,762,371</td>\n",
       "      <td>11,066,096</td>\n",
       "      <td>11,379,823</td>\n",
       "      <td>11,308,639</td>\n",
       "      <td>11,198,523</td>\n",
       "      <td>11,046,604</td>\n",
       "      <td>11,024,107</td>\n",
       "      <td>11,010,874</td>\n",
       "      <td>10,994,852</td>\n",
       "      <td>10,974,697</td>\n",
       "      <td>10,943,839</td>\n",
       "      <td>10,804,532</td>\n",
       "      <td>10,807,893</td>\n",
       "      <td>10,821,457</td>\n",
       "    </tr>\n",
       "    <tr>\n",
       "      <th>3</th>\n",
       "      <td>MVNO</td>\n",
       "      <td>7,081,852</td>\n",
       "      <td>6,810,841</td>\n",
       "      <td>6,093,272</td>\n",
       "      <td>6,082,652</td>\n",
       "      <td>7,269,908</td>\n",
       "      <td>8,231,441</td>\n",
       "      <td>8,367,711</td>\n",
       "      <td>8,493,099</td>\n",
       "      <td>8,601,245</td>\n",
       "      <td>8,682,839</td>\n",
       "      <td>8,719,267</td>\n",
       "      <td>8,845,434</td>\n",
       "      <td>8,971,431</td>\n",
       "      <td>9,165,135</td>\n",
       "    </tr>\n",
       "    <tr>\n",
       "      <th>4</th>\n",
       "      <td>소 계</td>\n",
       "      <td>55,597,865</td>\n",
       "      <td>56,123,014</td>\n",
       "      <td>55,915,814</td>\n",
       "      <td>55,304,053</td>\n",
       "      <td>55,492,863</td>\n",
       "      <td>56,062,226</td>\n",
       "      <td>56,117,192</td>\n",
       "      <td>56,189,734</td>\n",
       "      <td>56,231,970</td>\n",
       "      <td>56,231,687</td>\n",
       "      <td>56,156,794</td>\n",
       "      <td>55,852,257</td>\n",
       "      <td>55,955,481</td>\n",
       "      <td>56,144,454</td>\n",
       "    </tr>\n",
       "  </tbody>\n",
       "</table>\n",
       "</div>"
      ],
      "text/plain": [
       "    통신사    2018.12월    2019.12월    2020.12월    2021.12월    2022.12월  \\\n",
       "0   SKT  23,784,297  24,083,359  24,110,027  23,750,143  23,277,848   \n",
       "1    KT  13,969,345  14,162,718  14,332,692  14,162,619  13,746,584   \n",
       "2  LGU+  10,762,371  11,066,096  11,379,823  11,308,639  11,198,523   \n",
       "3  MVNO   7,081,852   6,810,841   6,093,272   6,082,652   7,269,908   \n",
       "4   소 계  55,597,865  56,123,014  55,915,814  55,304,053  55,492,863   \n",
       "\n",
       "      2023.7월     2023.8월     2023.9월    2023.10월    2023.11월    2023.12월  \\\n",
       "0  23,164,492  23,123,256  23,094,699  23,058,911  23,022,980  22,977,041   \n",
       "1  13,619,689  13,602,118  13,591,062  13,576,962  13,551,171  13,516,647   \n",
       "2  11,046,604  11,024,107  11,010,874  10,994,852  10,974,697  10,943,839   \n",
       "3   8,231,441   8,367,711   8,493,099   8,601,245   8,682,839   8,719,267   \n",
       "4  56,062,226  56,117,192  56,189,734  56,231,970  56,231,687  56,156,794   \n",
       "\n",
       "      2024.1월     2024.2월     2024.3월  \n",
       "0  22,899,298  22,886,872  22,882,367  \n",
       "1  13,302,993  13,289,285  13,275,495  \n",
       "2  10,804,532  10,807,893  10,821,457  \n",
       "3   8,845,434   8,971,431   9,165,135  \n",
       "4  55,852,257  55,955,481  56,144,454  "
      ]
     },
     "execution_count": 24,
     "metadata": {},
     "output_type": "execute_result"
    }
   ],
   "source": [
    "df.head()"
   ]
  },
  {
   "cell_type": "code",
   "execution_count": 35,
   "id": "06946477",
   "metadata": {},
   "outputs": [
    {
     "ename": "TypeError",
     "evalue": "Neither the `x` nor `y` variable appears to be numeric.",
     "output_type": "error",
     "traceback": [
      "\u001b[0;31m---------------------------------------------------------------------------\u001b[0m",
      "\u001b[0;31mTypeError\u001b[0m                                 Traceback (most recent call last)",
      "Cell \u001b[0;32mIn[35], line 6\u001b[0m\n\u001b[1;32m      4\u001b[0m \u001b[38;5;66;03m# 카운트 플롯 생성\u001b[39;00m\n\u001b[1;32m      5\u001b[0m plt\u001b[38;5;241m.\u001b[39mfigure(figsize\u001b[38;5;241m=\u001b[39m(\u001b[38;5;241m14\u001b[39m, \u001b[38;5;241m8\u001b[39m))\n\u001b[0;32m----> 6\u001b[0m \u001b[43msns\u001b[49m\u001b[38;5;241;43m.\u001b[39;49m\u001b[43mbarplot\u001b[49m\u001b[43m(\u001b[49m\u001b[43mdata\u001b[49m\u001b[38;5;241;43m=\u001b[39;49m\u001b[43mdf_melted\u001b[49m\u001b[43m,\u001b[49m\u001b[43m \u001b[49m\u001b[43mx\u001b[49m\u001b[38;5;241;43m=\u001b[39;49m\u001b[38;5;124;43m\"\u001b[39;49m\u001b[38;5;124;43m시간\u001b[39;49m\u001b[38;5;124;43m\"\u001b[39;49m\u001b[43m,\u001b[49m\u001b[43m \u001b[49m\u001b[43mhue\u001b[49m\u001b[38;5;241;43m=\u001b[39;49m\u001b[38;5;124;43m\"\u001b[39;49m\u001b[38;5;124;43m통신사\u001b[39;49m\u001b[38;5;124;43m\"\u001b[39;49m\u001b[43m,\u001b[49m\u001b[43m \u001b[49m\u001b[43my\u001b[49m\u001b[38;5;241;43m=\u001b[39;49m\u001b[38;5;124;43m\"\u001b[39;49m\u001b[38;5;124;43m가입자수\u001b[39;49m\u001b[38;5;124;43m\"\u001b[39;49m\u001b[43m)\u001b[49m\n",
      "File \u001b[0;32m~/anaconda3/envs/Rucious/lib/python3.8/site-packages/seaborn/categorical.py:2755\u001b[0m, in \u001b[0;36mbarplot\u001b[0;34m(data, x, y, hue, order, hue_order, estimator, errorbar, n_boot, units, seed, orient, color, palette, saturation, width, errcolor, errwidth, capsize, dodge, ci, ax, **kwargs)\u001b[0m\n\u001b[1;32m   2752\u001b[0m \u001b[38;5;28;01mif\u001b[39;00m estimator \u001b[38;5;129;01mis\u001b[39;00m \u001b[38;5;28mlen\u001b[39m:\n\u001b[1;32m   2753\u001b[0m     estimator \u001b[38;5;241m=\u001b[39m \u001b[38;5;124m\"\u001b[39m\u001b[38;5;124msize\u001b[39m\u001b[38;5;124m\"\u001b[39m\n\u001b[0;32m-> 2755\u001b[0m plotter \u001b[38;5;241m=\u001b[39m \u001b[43m_BarPlotter\u001b[49m\u001b[43m(\u001b[49m\u001b[43mx\u001b[49m\u001b[43m,\u001b[49m\u001b[43m \u001b[49m\u001b[43my\u001b[49m\u001b[43m,\u001b[49m\u001b[43m \u001b[49m\u001b[43mhue\u001b[49m\u001b[43m,\u001b[49m\u001b[43m \u001b[49m\u001b[43mdata\u001b[49m\u001b[43m,\u001b[49m\u001b[43m \u001b[49m\u001b[43morder\u001b[49m\u001b[43m,\u001b[49m\u001b[43m \u001b[49m\u001b[43mhue_order\u001b[49m\u001b[43m,\u001b[49m\n\u001b[1;32m   2756\u001b[0m \u001b[43m                      \u001b[49m\u001b[43mestimator\u001b[49m\u001b[43m,\u001b[49m\u001b[43m \u001b[49m\u001b[43merrorbar\u001b[49m\u001b[43m,\u001b[49m\u001b[43m \u001b[49m\u001b[43mn_boot\u001b[49m\u001b[43m,\u001b[49m\u001b[43m \u001b[49m\u001b[43munits\u001b[49m\u001b[43m,\u001b[49m\u001b[43m \u001b[49m\u001b[43mseed\u001b[49m\u001b[43m,\u001b[49m\n\u001b[1;32m   2757\u001b[0m \u001b[43m                      \u001b[49m\u001b[43morient\u001b[49m\u001b[43m,\u001b[49m\u001b[43m \u001b[49m\u001b[43mcolor\u001b[49m\u001b[43m,\u001b[49m\u001b[43m \u001b[49m\u001b[43mpalette\u001b[49m\u001b[43m,\u001b[49m\u001b[43m \u001b[49m\u001b[43msaturation\u001b[49m\u001b[43m,\u001b[49m\n\u001b[1;32m   2758\u001b[0m \u001b[43m                      \u001b[49m\u001b[43mwidth\u001b[49m\u001b[43m,\u001b[49m\u001b[43m \u001b[49m\u001b[43merrcolor\u001b[49m\u001b[43m,\u001b[49m\u001b[43m \u001b[49m\u001b[43merrwidth\u001b[49m\u001b[43m,\u001b[49m\u001b[43m \u001b[49m\u001b[43mcapsize\u001b[49m\u001b[43m,\u001b[49m\u001b[43m \u001b[49m\u001b[43mdodge\u001b[49m\u001b[43m)\u001b[49m\n\u001b[1;32m   2760\u001b[0m \u001b[38;5;28;01mif\u001b[39;00m ax \u001b[38;5;129;01mis\u001b[39;00m \u001b[38;5;28;01mNone\u001b[39;00m:\n\u001b[1;32m   2761\u001b[0m     ax \u001b[38;5;241m=\u001b[39m plt\u001b[38;5;241m.\u001b[39mgca()\n",
      "File \u001b[0;32m~/anaconda3/envs/Rucious/lib/python3.8/site-packages/seaborn/categorical.py:1530\u001b[0m, in \u001b[0;36m_BarPlotter.__init__\u001b[0;34m(self, x, y, hue, data, order, hue_order, estimator, errorbar, n_boot, units, seed, orient, color, palette, saturation, width, errcolor, errwidth, capsize, dodge)\u001b[0m\n\u001b[1;32m   1525\u001b[0m \u001b[38;5;28;01mdef\u001b[39;00m \u001b[38;5;21m__init__\u001b[39m(\u001b[38;5;28mself\u001b[39m, x, y, hue, data, order, hue_order,\n\u001b[1;32m   1526\u001b[0m              estimator, errorbar, n_boot, units, seed,\n\u001b[1;32m   1527\u001b[0m              orient, color, palette, saturation, width,\n\u001b[1;32m   1528\u001b[0m              errcolor, errwidth, capsize, dodge):\n\u001b[1;32m   1529\u001b[0m \u001b[38;5;250m    \u001b[39m\u001b[38;5;124;03m\"\"\"Initialize the plotter.\"\"\"\u001b[39;00m\n\u001b[0;32m-> 1530\u001b[0m     \u001b[38;5;28;43mself\u001b[39;49m\u001b[38;5;241;43m.\u001b[39;49m\u001b[43mestablish_variables\u001b[49m\u001b[43m(\u001b[49m\u001b[43mx\u001b[49m\u001b[43m,\u001b[49m\u001b[43m \u001b[49m\u001b[43my\u001b[49m\u001b[43m,\u001b[49m\u001b[43m \u001b[49m\u001b[43mhue\u001b[49m\u001b[43m,\u001b[49m\u001b[43m \u001b[49m\u001b[43mdata\u001b[49m\u001b[43m,\u001b[49m\u001b[43m \u001b[49m\u001b[43morient\u001b[49m\u001b[43m,\u001b[49m\n\u001b[1;32m   1531\u001b[0m \u001b[43m                             \u001b[49m\u001b[43morder\u001b[49m\u001b[43m,\u001b[49m\u001b[43m \u001b[49m\u001b[43mhue_order\u001b[49m\u001b[43m,\u001b[49m\u001b[43m \u001b[49m\u001b[43munits\u001b[49m\u001b[43m)\u001b[49m\n\u001b[1;32m   1532\u001b[0m     \u001b[38;5;28mself\u001b[39m\u001b[38;5;241m.\u001b[39mestablish_colors(color, palette, saturation)\n\u001b[1;32m   1533\u001b[0m     \u001b[38;5;28mself\u001b[39m\u001b[38;5;241m.\u001b[39mestimate_statistic(estimator, errorbar, n_boot, seed)\n",
      "File \u001b[0;32m~/anaconda3/envs/Rucious/lib/python3.8/site-packages/seaborn/categorical.py:544\u001b[0m, in \u001b[0;36m_CategoricalPlotter.establish_variables\u001b[0;34m(self, x, y, hue, data, orient, order, hue_order, units)\u001b[0m\n\u001b[1;32m    541\u001b[0m         \u001b[38;5;28;01mraise\u001b[39;00m \u001b[38;5;167;01mValueError\u001b[39;00m(err)\n\u001b[1;32m    543\u001b[0m \u001b[38;5;66;03m# Figure out the plotting orientation\u001b[39;00m\n\u001b[0;32m--> 544\u001b[0m orient \u001b[38;5;241m=\u001b[39m \u001b[43minfer_orient\u001b[49m\u001b[43m(\u001b[49m\n\u001b[1;32m    545\u001b[0m \u001b[43m    \u001b[49m\u001b[43mx\u001b[49m\u001b[43m,\u001b[49m\u001b[43m \u001b[49m\u001b[43my\u001b[49m\u001b[43m,\u001b[49m\u001b[43m \u001b[49m\u001b[43morient\u001b[49m\u001b[43m,\u001b[49m\u001b[43m \u001b[49m\u001b[43mrequire_numeric\u001b[49m\u001b[38;5;241;43m=\u001b[39;49m\u001b[38;5;28;43mself\u001b[39;49m\u001b[38;5;241;43m.\u001b[39;49m\u001b[43mrequire_numeric\u001b[49m\n\u001b[1;32m    546\u001b[0m \u001b[43m\u001b[49m\u001b[43m)\u001b[49m\n\u001b[1;32m    548\u001b[0m \u001b[38;5;66;03m# Option 2a:\u001b[39;00m\n\u001b[1;32m    549\u001b[0m \u001b[38;5;66;03m# We are plotting a single set of data\u001b[39;00m\n\u001b[1;32m    550\u001b[0m \u001b[38;5;66;03m# ------------------------------------\u001b[39;00m\n\u001b[1;32m    551\u001b[0m \u001b[38;5;28;01mif\u001b[39;00m x \u001b[38;5;129;01mis\u001b[39;00m \u001b[38;5;28;01mNone\u001b[39;00m \u001b[38;5;129;01mor\u001b[39;00m y \u001b[38;5;129;01mis\u001b[39;00m \u001b[38;5;28;01mNone\u001b[39;00m:\n\u001b[1;32m    552\u001b[0m \n\u001b[1;32m    553\u001b[0m     \u001b[38;5;66;03m# Determine where the data are\u001b[39;00m\n",
      "File \u001b[0;32m~/anaconda3/envs/Rucious/lib/python3.8/site-packages/seaborn/_oldcore.py:1632\u001b[0m, in \u001b[0;36minfer_orient\u001b[0;34m(x, y, orient, require_numeric)\u001b[0m\n\u001b[1;32m   1630\u001b[0m \u001b[38;5;28;01melif\u001b[39;00m require_numeric \u001b[38;5;129;01mand\u001b[39;00m \u001b[38;5;124m\"\u001b[39m\u001b[38;5;124mnumeric\u001b[39m\u001b[38;5;124m\"\u001b[39m \u001b[38;5;129;01mnot\u001b[39;00m \u001b[38;5;129;01min\u001b[39;00m (x_type, y_type):\n\u001b[1;32m   1631\u001b[0m     err \u001b[38;5;241m=\u001b[39m \u001b[38;5;124m\"\u001b[39m\u001b[38;5;124mNeither the `x` nor `y` variable appears to be numeric.\u001b[39m\u001b[38;5;124m\"\u001b[39m\n\u001b[0;32m-> 1632\u001b[0m     \u001b[38;5;28;01mraise\u001b[39;00m \u001b[38;5;167;01mTypeError\u001b[39;00m(err)\n\u001b[1;32m   1634\u001b[0m \u001b[38;5;28;01melse\u001b[39;00m:\n\u001b[1;32m   1635\u001b[0m     \u001b[38;5;28;01mreturn\u001b[39;00m \u001b[38;5;124m\"\u001b[39m\u001b[38;5;124mv\u001b[39m\u001b[38;5;124m\"\u001b[39m\n",
      "\u001b[0;31mTypeError\u001b[0m: Neither the `x` nor `y` variable appears to be numeric."
     ]
    },
    {
     "data": {
      "text/plain": [
       "<Figure size 1400x800 with 0 Axes>"
      ]
     },
     "metadata": {},
     "output_type": "display_data"
    }
   ],
   "source": [
    "# 데이터프레임을 길게 변환\n",
    "df_melted = df.melt(id_vars=[\"통신사\"], var_name=\"시간\", value_name=\"가입자수\")\n",
    "\n"
   ]
  },
  {
   "cell_type": "code",
   "execution_count": 36,
   "id": "ef486e37",
   "metadata": {},
   "outputs": [
    {
     "data": {
      "text/html": [
       "<div>\n",
       "<style scoped>\n",
       "    .dataframe tbody tr th:only-of-type {\n",
       "        vertical-align: middle;\n",
       "    }\n",
       "\n",
       "    .dataframe tbody tr th {\n",
       "        vertical-align: top;\n",
       "    }\n",
       "\n",
       "    .dataframe thead th {\n",
       "        text-align: right;\n",
       "    }\n",
       "</style>\n",
       "<table border=\"1\" class=\"dataframe\">\n",
       "  <thead>\n",
       "    <tr style=\"text-align: right;\">\n",
       "      <th></th>\n",
       "      <th>통신사</th>\n",
       "      <th>시간</th>\n",
       "      <th>가입자수</th>\n",
       "    </tr>\n",
       "  </thead>\n",
       "  <tbody>\n",
       "    <tr>\n",
       "      <th>0</th>\n",
       "      <td>SKT</td>\n",
       "      <td>2018.12월</td>\n",
       "      <td>23,784,297</td>\n",
       "    </tr>\n",
       "    <tr>\n",
       "      <th>1</th>\n",
       "      <td>KT</td>\n",
       "      <td>2018.12월</td>\n",
       "      <td>13,969,345</td>\n",
       "    </tr>\n",
       "    <tr>\n",
       "      <th>2</th>\n",
       "      <td>LGU+</td>\n",
       "      <td>2018.12월</td>\n",
       "      <td>10,762,371</td>\n",
       "    </tr>\n",
       "    <tr>\n",
       "      <th>3</th>\n",
       "      <td>MVNO</td>\n",
       "      <td>2018.12월</td>\n",
       "      <td>7,081,852</td>\n",
       "    </tr>\n",
       "    <tr>\n",
       "      <th>4</th>\n",
       "      <td>소 계</td>\n",
       "      <td>2018.12월</td>\n",
       "      <td>55,597,865</td>\n",
       "    </tr>\n",
       "  </tbody>\n",
       "</table>\n",
       "</div>"
      ],
      "text/plain": [
       "    통신사        시간        가입자수\n",
       "0   SKT  2018.12월  23,784,297\n",
       "1    KT  2018.12월  13,969,345\n",
       "2  LGU+  2018.12월  10,762,371\n",
       "3  MVNO  2018.12월   7,081,852\n",
       "4   소 계  2018.12월  55,597,865"
      ]
     },
     "execution_count": 36,
     "metadata": {},
     "output_type": "execute_result"
    }
   ],
   "source": [
    "df_melted.head()"
   ]
  },
  {
   "cell_type": "code",
   "execution_count": 37,
   "id": "820f5d4a",
   "metadata": {},
   "outputs": [
    {
     "name": "stdout",
     "output_type": "stream",
     "text": [
      "<class 'pandas.core.frame.DataFrame'>\n",
      "RangeIndex: 70 entries, 0 to 69\n",
      "Data columns (total 3 columns):\n",
      " #   Column  Non-Null Count  Dtype \n",
      "---  ------  --------------  ----- \n",
      " 0   통신사     70 non-null     object\n",
      " 1   시간      70 non-null     object\n",
      " 2   가입자수    70 non-null     object\n",
      "dtypes: object(3)\n",
      "memory usage: 1.8+ KB\n"
     ]
    }
   ],
   "source": [
    "df_melted.info()"
   ]
  },
  {
   "cell_type": "code",
   "execution_count": 38,
   "id": "0dc222e4",
   "metadata": {},
   "outputs": [
    {
     "data": {
      "text/html": [
       "<div>\n",
       "<style scoped>\n",
       "    .dataframe tbody tr th:only-of-type {\n",
       "        vertical-align: middle;\n",
       "    }\n",
       "\n",
       "    .dataframe tbody tr th {\n",
       "        vertical-align: top;\n",
       "    }\n",
       "\n",
       "    .dataframe thead th {\n",
       "        text-align: right;\n",
       "    }\n",
       "</style>\n",
       "<table border=\"1\" class=\"dataframe\">\n",
       "  <thead>\n",
       "    <tr style=\"text-align: right;\">\n",
       "      <th></th>\n",
       "      <th>통신사</th>\n",
       "      <th>시간</th>\n",
       "      <th>가입자수</th>\n",
       "    </tr>\n",
       "  </thead>\n",
       "  <tbody>\n",
       "    <tr>\n",
       "      <th>0</th>\n",
       "      <td>SKT</td>\n",
       "      <td>2018.12월</td>\n",
       "      <td>23784297</td>\n",
       "    </tr>\n",
       "    <tr>\n",
       "      <th>1</th>\n",
       "      <td>KT</td>\n",
       "      <td>2018.12월</td>\n",
       "      <td>13969345</td>\n",
       "    </tr>\n",
       "    <tr>\n",
       "      <th>2</th>\n",
       "      <td>LGU+</td>\n",
       "      <td>2018.12월</td>\n",
       "      <td>10762371</td>\n",
       "    </tr>\n",
       "    <tr>\n",
       "      <th>3</th>\n",
       "      <td>MVNO</td>\n",
       "      <td>2018.12월</td>\n",
       "      <td>7081852</td>\n",
       "    </tr>\n",
       "    <tr>\n",
       "      <th>4</th>\n",
       "      <td>소 계</td>\n",
       "      <td>2018.12월</td>\n",
       "      <td>55597865</td>\n",
       "    </tr>\n",
       "  </tbody>\n",
       "</table>\n",
       "</div>"
      ],
      "text/plain": [
       "    통신사        시간      가입자수\n",
       "0   SKT  2018.12월  23784297\n",
       "1    KT  2018.12월  13969345\n",
       "2  LGU+  2018.12월  10762371\n",
       "3  MVNO  2018.12월   7081852\n",
       "4   소 계  2018.12월  55597865"
      ]
     },
     "execution_count": 38,
     "metadata": {},
     "output_type": "execute_result"
    }
   ],
   "source": [
    "# 숫자 열의 쉼표(,) 제거하고 int로 변환\n",
    "df_melted[\"가입자수\"] = df_melted[\"가입자수\"].str.replace(\",\", \"\").astype(int)\n",
    "df_melted.head()"
   ]
  },
  {
   "cell_type": "code",
   "execution_count": 47,
   "id": "36b557e5",
   "metadata": {},
   "outputs": [],
   "source": [
    "df_melted = df_melted.loc[df_melted[\"통신사\"] != \"소 계\", :]"
   ]
  },
  {
   "cell_type": "code",
   "execution_count": 53,
   "id": "61f90702",
   "metadata": {},
   "outputs": [
    {
     "data": {
      "text/plain": [
       "Index(['통신사', '시간', '가입자수'], dtype='object')"
      ]
     },
     "execution_count": 53,
     "metadata": {},
     "output_type": "execute_result"
    }
   ],
   "source": [
    "df_melted.columns"
   ]
  },
  {
   "cell_type": "code",
   "execution_count": null,
   "id": "f08e0325",
   "metadata": {},
   "outputs": [],
   "source": [
    "df_melted.crop"
   ]
  },
  {
   "cell_type": "code",
   "execution_count": 52,
   "id": "f8d2577b",
   "metadata": {
    "scrolled": false
   },
   "outputs": [
    {
     "data": {
      "text/plain": [
       "(5000000.0, 10000000.0)"
      ]
     },
     "execution_count": 52,
     "metadata": {},
     "output_type": "execute_result"
    },
    {
     "data": {
      "image/png": "[encoded data removed]",
      "text/plain": [
       "<Figure size 1400x800 with 1 Axes>"
      ]
     },
     "metadata": {},
     "output_type": "display_data"
    }
   ],
   "source": [
    "plt.figure(figsize=(14, 8))\n",
    "sns.barplot(data=df_melted[df_melted[\"통신사\"] == \"MVNO\"], x=\"시간\", hue=\"통신사\", y=\"가입자수\")\n",
    "plt.ylim(5e6, 10e6)"
   ]
  },
  {
   "cell_type": "code",
   "execution_count": null,
   "id": "63397b65",
   "metadata": {},
   "outputs": [],
   "source": []
  }
 ],
 "metadata": {
  "kernelspec": {
   "display_name": "Python [conda env:Rucious]",
   "language": "python",
   "name": "conda-env-Rucious-py"
  },
  "language_info": {
   "codemirror_mode": {
    "name": "ipython",
    "version": 3
   },
   "file_extension": ".py",
   "mimetype": "text/x-python",
   "name": "python",
   "nbconvert_exporter": "python",
   "pygments_lexer": "ipython3",
   "version": "3.8.19"
  }
 },
 "nbformat": 4,
 "nbformat_minor": 5
}
